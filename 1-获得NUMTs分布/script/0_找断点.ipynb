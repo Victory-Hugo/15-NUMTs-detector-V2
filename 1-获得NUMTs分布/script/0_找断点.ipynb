{
 "cells": [
  {
   "cell_type": "code",
   "execution_count": null,
   "id": "5d8fe78a",
   "metadata": {},
   "outputs": [],
   "source": [
    "#%% 块1：参数解析和基础准备\n",
    "import sys, os\n",
    "import pandas as pd\n",
    "\n",
    "# 从命令行读取输入参数\n",
    "INPUT_PSL, SAMPLEID, CHR, START, END, OUTPUT = sys.argv[1:]\n",
    "START, END = int(START), int(END)\n",
    "\n",
    "print(\"已解析参数:\")\n",
    "print(f\"输入文件: {INPUT_PSL}\")\n",
    "print(f\"样本ID: {SAMPLEID}\")\n",
    "print(f\"染色体: {CHR} 范围: {START}-{END}\")\n",
    "print(f\"输出前缀: {OUTPUT}\")\n"
   ]
  }
 ],
 "metadata": {
  "kernelspec": {
   "display_name": "base",
   "language": "python",
   "name": "python3"
  },
  "language_info": {
   "name": "python",
   "version": "3.9.15"
  }
 },
 "nbformat": 4,
 "nbformat_minor": 5
}
